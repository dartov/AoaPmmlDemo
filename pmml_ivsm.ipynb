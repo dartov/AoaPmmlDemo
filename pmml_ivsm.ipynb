{
 "cells": [
  {
   "cell_type": "code",
   "execution_count": 1,
   "metadata": {},
   "outputs": [],
   "source": [
    "import os\n",
    "import getpass \n",
    "import time\n",
    "import pandas as pd\n",
    "from sklearn.model_selection import train_test_split\n",
    "\n",
    "from teradataml import create_context\n",
    "from teradataml.context.context import get_connection\n",
    "from teradataml.dataframe.copy_to import copy_to_sql"
   ]
  },
  {
   "cell_type": "code",
   "execution_count": 7,
   "metadata": {},
   "outputs": [
    {
     "name": "stdin",
     "output_type": "stream",
     "text": [
      "Vantage password ·········\n"
     ]
    }
   ],
   "source": [
    "p = getpass.getpass(prompt=\"Vantage password\")"
   ]
  },
  {
   "cell_type": "code",
   "execution_count": 8,
   "metadata": {},
   "outputs": [],
   "source": [
    "engine = create_context(host=\"192.168.116.128\", username=\"ivsm_user\", password=p)\n",
    "conn = get_connection()\n",
    "cursor = engine.raw_connection().cursor()"
   ]
  },
  {
   "cell_type": "code",
   "execution_count": 4,
   "metadata": {},
   "outputs": [],
   "source": [
    "iris_df = pd.read_csv(\"https://aoa-public-datasets.s3-eu-west-1.amazonaws.com/AoaPmmlDemo/iris_full.csv\")"
   ]
  },
  {
   "cell_type": "code",
   "execution_count": 5,
   "metadata": {},
   "outputs": [],
   "source": [
    "_, test = train_test_split(iris_df, test_size=0.5, random_state=123)\n",
    "predict_df = test.drop(\"species\", 1)"
   ]
  },
  {
   "cell_type": "code",
   "execution_count": 6,
   "metadata": {},
   "outputs": [
    {
     "data": {
      "text/html": [
       "<div>\n",
       "<style scoped>\n",
       "    .dataframe tbody tr th:only-of-type {\n",
       "        vertical-align: middle;\n",
       "    }\n",
       "\n",
       "    .dataframe tbody tr th {\n",
       "        vertical-align: top;\n",
       "    }\n",
       "\n",
       "    .dataframe thead th {\n",
       "        text-align: right;\n",
       "    }\n",
       "</style>\n",
       "<table border=\"1\" class=\"dataframe\">\n",
       "  <thead>\n",
       "    <tr style=\"text-align: right;\">\n",
       "      <th></th>\n",
       "      <th>sepal_length</th>\n",
       "      <th>sepal_width</th>\n",
       "      <th>petal_length</th>\n",
       "      <th>petal_width</th>\n",
       "    </tr>\n",
       "  </thead>\n",
       "  <tbody>\n",
       "    <tr>\n",
       "      <th>72</th>\n",
       "      <td>6.3</td>\n",
       "      <td>2.5</td>\n",
       "      <td>4.9</td>\n",
       "      <td>1.5</td>\n",
       "    </tr>\n",
       "    <tr>\n",
       "      <th>112</th>\n",
       "      <td>6.8</td>\n",
       "      <td>3.0</td>\n",
       "      <td>5.5</td>\n",
       "      <td>2.1</td>\n",
       "    </tr>\n",
       "    <tr>\n",
       "      <th>132</th>\n",
       "      <td>6.4</td>\n",
       "      <td>2.8</td>\n",
       "      <td>5.6</td>\n",
       "      <td>2.2</td>\n",
       "    </tr>\n",
       "    <tr>\n",
       "      <th>88</th>\n",
       "      <td>5.6</td>\n",
       "      <td>3.0</td>\n",
       "      <td>4.1</td>\n",
       "      <td>1.3</td>\n",
       "    </tr>\n",
       "    <tr>\n",
       "      <th>37</th>\n",
       "      <td>4.9</td>\n",
       "      <td>3.1</td>\n",
       "      <td>1.5</td>\n",
       "      <td>0.1</td>\n",
       "    </tr>\n",
       "  </tbody>\n",
       "</table>\n",
       "</div>"
      ],
      "text/plain": [
       "     sepal_length  sepal_width  petal_length  petal_width\n",
       "72            6.3          2.5           4.9          1.5\n",
       "112           6.8          3.0           5.5          2.1\n",
       "132           6.4          2.8           5.6          2.2\n",
       "88            5.6          3.0           4.1          1.3\n",
       "37            4.9          3.1           1.5          0.1"
      ]
     },
     "execution_count": 6,
     "metadata": {},
     "output_type": "execute_result"
    }
   ],
   "source": [
    "predict_df.head()"
   ]
  },
  {
   "cell_type": "code",
   "execution_count": 7,
   "metadata": {},
   "outputs": [],
   "source": [
    "copy_to_sql(predict_df, table_name = \"iris_to_score\", index=True, index_label=\"idx\", if_exists=\"replace\")"
   ]
  },
  {
   "cell_type": "code",
   "execution_count": 9,
   "metadata": {},
   "outputs": [
    {
     "data": {
      "text/html": [
       "<div>\n",
       "<style scoped>\n",
       "    .dataframe tbody tr th:only-of-type {\n",
       "        vertical-align: middle;\n",
       "    }\n",
       "\n",
       "    .dataframe tbody tr th {\n",
       "        vertical-align: top;\n",
       "    }\n",
       "\n",
       "    .dataframe thead th {\n",
       "        text-align: right;\n",
       "    }\n",
       "</style>\n",
       "<table border=\"1\" class=\"dataframe\">\n",
       "  <thead>\n",
       "    <tr style=\"text-align: right;\">\n",
       "      <th></th>\n",
       "      <th>model_version</th>\n",
       "      <th>model_id</th>\n",
       "      <th>project_id</th>\n",
       "      <th>deployed_at</th>\n",
       "      <th>model</th>\n",
       "    </tr>\n",
       "  </thead>\n",
       "  <tbody>\n",
       "    <tr>\n",
       "      <th>0</th>\n",
       "      <td>422ee5c0-5f79-4568-8744-d978a5c5c2a2</td>\n",
       "      <td>6610a168-540e-48f4-8947-4b405aaab264</td>\n",
       "      <td>3a3bfc4d-4458-416d-bb50-10ebad597b22</td>\n",
       "      <td>2020-08-13 07:07:15.440</td>\n",
       "      <td>b'&lt;?xml version=\"1.0\" encoding=\"UTF-8\" standal...</td>\n",
       "    </tr>\n",
       "    <tr>\n",
       "      <th>1</th>\n",
       "      <td>01b5d6e7-fbdf-4fa7-9e0a-b5b2876dfc4d</td>\n",
       "      <td>09398d14-c34f-4465-bcd1-cb4e34e20cee</td>\n",
       "      <td>b4b37883-8047-4dcb-a11d-acd357f68645</td>\n",
       "      <td>2020-08-11 19:06:38.930</td>\n",
       "      <td>b'&lt;?xml version=\"1.0\" encoding=\"UTF-8\" standal...</td>\n",
       "    </tr>\n",
       "    <tr>\n",
       "      <th>2</th>\n",
       "      <td>2eec85eb-8202-4f8d-b092-ad05cc652c37</td>\n",
       "      <td>09398d14-c34f-4465-bcd1-cb4e34e20cee</td>\n",
       "      <td>3a3bfc4d-4458-416d-bb50-10ebad597b22</td>\n",
       "      <td>2020-08-13 05:06:50.520</td>\n",
       "      <td>b'&lt;?xml version=\"1.0\" encoding=\"UTF-8\" standal...</td>\n",
       "    </tr>\n",
       "  </tbody>\n",
       "</table>\n",
       "</div>"
      ],
      "text/plain": [
       "                          model_version                              model_id  \\\n",
       "0  422ee5c0-5f79-4568-8744-d978a5c5c2a2  6610a168-540e-48f4-8947-4b405aaab264   \n",
       "1  01b5d6e7-fbdf-4fa7-9e0a-b5b2876dfc4d  09398d14-c34f-4465-bcd1-cb4e34e20cee   \n",
       "2  2eec85eb-8202-4f8d-b092-ad05cc652c37  09398d14-c34f-4465-bcd1-cb4e34e20cee   \n",
       "\n",
       "                             project_id             deployed_at  \\\n",
       "0  3a3bfc4d-4458-416d-bb50-10ebad597b22 2020-08-13 07:07:15.440   \n",
       "1  b4b37883-8047-4dcb-a11d-acd357f68645 2020-08-11 19:06:38.930   \n",
       "2  3a3bfc4d-4458-416d-bb50-10ebad597b22 2020-08-13 05:06:50.520   \n",
       "\n",
       "                                               model  \n",
       "0  b'<?xml version=\"1.0\" encoding=\"UTF-8\" standal...  \n",
       "1  b'<?xml version=\"1.0\" encoding=\"UTF-8\" standal...  \n",
       "2  b'<?xml version=\"1.0\" encoding=\"UTF-8\" standal...  "
      ]
     },
     "execution_count": 9,
     "metadata": {},
     "output_type": "execute_result"
    }
   ],
   "source": [
    "pd.read_sql(\"select * from ivsm_user.aoa_ivsm_models\", conn)"
   ]
  },
  {
   "cell_type": "code",
   "execution_count": 9,
   "metadata": {},
   "outputs": [
    {
     "data": {
      "text/html": [
       "<div>\n",
       "<style scoped>\n",
       "    .dataframe tbody tr th:only-of-type {\n",
       "        vertical-align: middle;\n",
       "    }\n",
       "\n",
       "    .dataframe tbody tr th {\n",
       "        vertical-align: top;\n",
       "    }\n",
       "\n",
       "    .dataframe thead th {\n",
       "        text-align: right;\n",
       "    }\n",
       "</style>\n",
       "<table border=\"1\" class=\"dataframe\">\n",
       "  <thead>\n",
       "    <tr style=\"text-align: right;\">\n",
       "      <th></th>\n",
       "      <th>model_id</th>\n",
       "      <th>model</th>\n",
       "    </tr>\n",
       "  </thead>\n",
       "  <tbody>\n",
       "    <tr>\n",
       "      <th>0</th>\n",
       "      <td>09398d14-c34f-4465-bcd1-cb4e34e20cee</td>\n",
       "      <td>b'&lt;?xml version=\"1.0\" encoding=\"UTF-8\" standal...</td>\n",
       "    </tr>\n",
       "  </tbody>\n",
       "</table>\n",
       "</div>"
      ],
      "text/plain": [
       "                               model_id  \\\n",
       "0  09398d14-c34f-4465-bcd1-cb4e34e20cee   \n",
       "\n",
       "                                               model  \n",
       "0  b'<?xml version=\"1.0\" encoding=\"UTF-8\" standal...  "
      ]
     },
     "execution_count": 9,
     "metadata": {},
     "output_type": "execute_result"
    }
   ],
   "source": [
    "pd.read_sql(\"select * from aoa_model_09398d14\", conn)"
   ]
  },
  {
   "cell_type": "code",
   "execution_count": 10,
   "metadata": {},
   "outputs": [
    {
     "name": "stdout",
     "output_type": "stream",
     "text": [
      "Time, spent for scoring (seconds): 0.10\n"
     ]
    }
   ],
   "source": [
    "#clean before fill\n",
    "cursor.execute(\"delete from ivsm_user.iris_scoring_results\")\n",
    "\n",
    "ts = time.time()\n",
    "\n",
    "query=\"\"\"\n",
    "insert into ivsm_user.iris_scoring_results\n",
    "select * from ivsm.IVSM_SCORE(\n",
    "    on ivsm_user.iris_to_score\n",
    "    on ivsm_user.aoa_model_09398d14 DIMENSION\n",
    "    using\n",
    "        ModelID('09398d14-c34f-4465-bcd1-cb4e34e20cee')\n",
    "        ColumnsToPreserve('idx')\n",
    "        ModelType('PMML')\n",
    "        ModelSpecificSettings('PMML_OUTPUT_TYPE=ALL')\n",
    ") sc;\n",
    "\n",
    "\"\"\"\n",
    "\n",
    "cursor.execute(query)\n",
    "\n",
    "print(\"Time, spent for scoring (seconds):\", \"%.2f\"%(time.time() - ts))"
   ]
  },
  {
   "cell_type": "code",
   "execution_count": 12,
   "metadata": {},
   "outputs": [
    {
     "data": {
      "text/html": [
       "<div>\n",
       "<style scoped>\n",
       "    .dataframe tbody tr th:only-of-type {\n",
       "        vertical-align: middle;\n",
       "    }\n",
       "\n",
       "    .dataframe tbody tr th {\n",
       "        vertical-align: top;\n",
       "    }\n",
       "\n",
       "    .dataframe thead th {\n",
       "        text-align: right;\n",
       "    }\n",
       "</style>\n",
       "<table border=\"1\" class=\"dataframe\">\n",
       "  <thead>\n",
       "    <tr style=\"text-align: right;\">\n",
       "      <th></th>\n",
       "      <th>species</th>\n",
       "      <th>cnt</th>\n",
       "    </tr>\n",
       "  </thead>\n",
       "  <tbody>\n",
       "    <tr>\n",
       "      <th>0</th>\n",
       "      <td>Iris-virginica</td>\n",
       "      <td>28</td>\n",
       "    </tr>\n",
       "    <tr>\n",
       "      <th>1</th>\n",
       "      <td>Iris-setosa</td>\n",
       "      <td>27</td>\n",
       "    </tr>\n",
       "    <tr>\n",
       "      <th>2</th>\n",
       "      <td>Iris-versicolor</td>\n",
       "      <td>20</td>\n",
       "    </tr>\n",
       "  </tbody>\n",
       "</table>\n",
       "</div>"
      ],
      "text/plain": [
       "           species  cnt\n",
       "0   Iris-virginica   28\n",
       "1      Iris-setosa   27\n",
       "2  Iris-versicolor   20"
      ]
     },
     "execution_count": 12,
     "metadata": {},
     "output_type": "execute_result"
    }
   ],
   "source": [
    "# Aggregate output and JSON access\n",
    "\n",
    "\n",
    "query=\"\"\"\n",
    "select\n",
    "cast(score_result as json).JSONExtractValue('$.target_fields.y') as \"species\",\n",
    "count(*) as cnt\n",
    "from \n",
    "ivsm_user.iris_scoring_results\n",
    "group by 1\n",
    "\"\"\"\n",
    "\n",
    "pd.read_sql(query, conn)"
   ]
  },
  {
   "cell_type": "code",
   "execution_count": null,
   "metadata": {},
   "outputs": [],
   "source": []
  }
 ],
 "metadata": {
  "kernelspec": {
   "display_name": "Python 3",
   "language": "python",
   "name": "python3"
  },
  "language_info": {
   "codemirror_mode": {
    "name": "ipython",
    "version": 3
   },
   "file_extension": ".py",
   "mimetype": "text/x-python",
   "name": "python",
   "nbconvert_exporter": "python",
   "pygments_lexer": "ipython3",
   "version": "3.6.10"
  }
 },
 "nbformat": 4,
 "nbformat_minor": 4
}
